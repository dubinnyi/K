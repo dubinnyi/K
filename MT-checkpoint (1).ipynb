{
 "cells": [
  {
   "cell_type": "code",
   "execution_count": 1,
   "metadata": {
    "collapsed": true
   },
   "outputs": [],
   "source": [
    "import random\n",
    "from math import exp \n",
    "from math import log\n",
    "from math import sqrt\n",
    "import matplotlib\n",
    "from matplotlib import pylab\n",
    "from matplotlib import pyplot as plt \n",
    "\n",
    "matplotlib.style.use('ggplot')\n",
    "%matplotlib inline \n",
    "\n"
   ]
  },
  {
   "cell_type": "code",
   "execution_count": 3,
   "metadata": {},
   "outputs": [],
   "source": [
    "L=4\n",
    "N=L*L\n",
    "\n",
    "links=[]\n",
    "for i in range (N):\n",
    "    links.append([])\n",
    "    links[i].append((i // L) * L + (i + 1) % L)\n",
    "    links[i].append((i + L) % N)\n",
    "    links[i].append((i // L) * L + (i - 1) % L) \n",
    "    links[i].append((i - L) % N)\n",
    "\n",
    "\n",
    "#print links "
   ]
  },
  {
   "cell_type": "code",
   "execution_count": 4,
   "metadata": {},
   "outputs": [
    {
     "name": "stdout",
     "output_type": "stream",
     "text": [
      "65536\n"
     ]
    }
   ],
   "source": [
    "numberofconfigurations=2**N \n",
    "Tc = 2/log(1+sqrt(2))\n",
    "\n",
    "#print numberofconfigurations "
   ]
  },
  {
   "cell_type": "code",
   "execution_count": 5,
   "metadata": {},
   "outputs": [],
   "source": [
    "Spin=[]\n",
    "for i in range(N):\n",
    "    Spin.append(random.choice([1, -1]))\n",
    "    \n",
    "#print Spin\n",
    " \n",
    "\n"
   ]
  },
  {
   "cell_type": "code",
   "execution_count": 6,
   "metadata": {},
   "outputs": [
    {
     "name": "stdout",
     "output_type": "stream",
     "text": [
      "The history saving thread hit an unexpected error (OperationalError('database or disk is full',)).History will not be written to the database.\n"
     ]
    }
   ],
   "source": [
    "Ms=[]\n",
    "energies=[]\n",
    "Cs=[]\n",
    "numberofsteps= 10000\n",
    "Ts= [0.5 + 0.01 * i for i in range(500)]\n",
    "M=sum(Spin)\n",
    "for T in Ts: \n",
    "    Mtemp=0\n",
    "    k=0\n",
    "    for i in range(numberofsteps): \n",
    "        chooseposition = random.randint(0, N - 1)\n",
    "        Ei=0\n",
    "\n",
    "        for f in links[chooseposition]:\n",
    "            Ei=Ei+Spin[f]\n",
    "    \n",
    "        delta=2.0 *Spin[chooseposition]*Ei \n",
    "        randomvalue=random.uniform(0.0, 1.0) \n",
    "        Edelt=exp(-delta/T)\n",
    "        if( randomvalue< Edelt):\n",
    "            Spin[chooseposition]=Spin[chooseposition]*(-1)\n",
    "            M += 2 * Spin[chooseposition]\n",
    "            \n",
    "        if i % N == 0 and i > numberofsteps / 2:\n",
    "            Mtemp =Mtemp + abs(M)\n",
    "            k=k + 1\n",
    "    #X.append(j)\n",
    "    #y.append(sum(Spin))\n",
    "    #energies.append(energy(Spin, N, links))\n",
    "    Ms.append(abs(Mtemp)/ float(k * N))\n",
    "    \n",
    "    #print T \n"
   ]
  },
  {
   "cell_type": "code",
   "execution_count": 6,
   "metadata": {},
   "outputs": [
    {
     "data": {
      "text/plain": [
       "[<matplotlib.lines.Line2D at 0x636f430>]"
      ]
     },
     "execution_count": 6,
     "metadata": {},
     "output_type": "execute_result"
    },
    {
     "data": {
      "image/png": "[encoded data removed]",
      "text/plain": [
       "<matplotlib.figure.Figure at 0x3a18170>"
      ]
     },
     "metadata": {},
     "output_type": "display_data"
    }
   ],
   "source": [
    "#pylab.plot(Ts, Ms , '-')"
   ]
  },
  {
   "cell_type": "code",
   "execution_count": 9,
   "metadata": {},
   "outputs": [],
   "source": [
    "s1=[]\n",
    "mapofenergy={}\n",
    "for i in range (N):\n",
    "    s1.append(-1)\n",
    "    \n",
    "#print s1\n",
    "\n",
    "numbers=[]\n",
    "for i in range (N+1):\n",
    "    numbers.append(i+1)\n",
    "\n",
    "#print numbers\n",
    "\n",
    "#mapofenergy[s1]=-2 * N \n"
   ]
  },
  {
   "cell_type": "code",
   "execution_count": 10,
   "metadata": {},
   "outputs": [],
   "source": [
    "E=-2*N\n",
    "mapofenergy[E]=1\n",
    "for i in range(numberofconfigurations-1):\n",
    "    \n",
    "    h=0\n",
    "    p = numbers[0]\n",
    "    if (p<=N):\n",
    "        #p = numbers[0]\n",
    "        numbers[p - 1] = numbers[p]\n",
    "        numbers[p] = p + 1\n",
    "        if p != 1: \n",
    "            numbers[0] = 1\n",
    "    \n",
    "    for j in links[p- 1]:\n",
    "        h=h+s1[j];\n",
    "    \n",
    "    E = E+2*h*s1[p - 1] \n",
    "    s1[p - 1] = (-1)*s1[p - 1]\n",
    "    if E in mapofenergy: \n",
    "        mapofenergy[E] =mapofenergy[E]+1\n",
    "    else:        \n",
    "        mapofenergy[E] = 1\n",
    "        \n",
    "        \n",
    "#print mapofenergy\n",
    "\n",
    "\n",
    "    \n",
    "    "
   ]
  },
  {
   "cell_type": "code",
   "execution_count": 11,
   "metadata": {},
   "outputs": [],
   "source": [
    "Ms=[]\n",
    "energies=[]\n",
    "Cs=[]\n",
    "numberofsteps= 10000\n",
    "Ts= [0.5 + 0.01 * i for i in range(500)]\n",
    "M=sum(Spin)\n",
    "for T in Ts: \n",
    "    Mtemp=0\n",
    "    k=0\n",
    "    Z=0\n",
    "    averageE=0\n",
    "    sqrE=0\n",
    "    for i in range(numberofsteps): \n",
    "        chooseposition = random.randint(0, N - 1)\n",
    "        Ei=0\n",
    "\n",
    "        for f in links[chooseposition]:\n",
    "            Ei=Ei+Spin[f]\n",
    "    \n",
    "        delta=2.0 *Spin[chooseposition]*Ei \n",
    "        randomvalue=random.uniform(0.0, 1.0) \n",
    "        Edelt=exp(-delta/T)\n",
    "        if( randomvalue< Edelt):\n",
    "            Spin[chooseposition]=Spin[chooseposition]*(-1)\n",
    "            M += 2 * Spin[chooseposition]\n",
    "            \n",
    "        if i % N == 0 and i > numberofsteps / 2:\n",
    "            Mtemp =Mtemp + abs(M)\n",
    "            k=k + 1 \n",
    "    #X.append(j)\n",
    "    #y.append(sum(Spin))\n",
    "    #energies.append(energy(Spin, N, links))\n",
    "    Ms.append(abs(Mtemp)/ float(k * N))\n",
    "    for j in mapofenergy.keys(): \n",
    "        Z=Z+exp(-j/T)*mapofenergy[j]\n",
    "        averageE=averageE+exp(-j/T)*j*mapofenergy[j]\n",
    "        #sqrE=sqrE+exp(-j/T)*j*exp(-j/T)*j*mapofenergy[j]*mapofenergy[j]\n",
    "        sqrE=sqrE+exp(-j/T)*j*mapofenergy[j]*exp(-j/T)*j*mapofenergy[j]\n",
    "    averageE=averageE/Z\n",
    "    sqrE=sqrE/Z\n",
    "    temp=(sqrE-averageE*averageE)/N/T/T\n",
    "    Cs.append(temp)\n",
    "    #print ((sqrE-averageE*averageE)/N/T/T)\n",
    "    energies.append(averageE)\n",
    "    \n",
    " "
   ]
  },
  {
   "cell_type": "code",
   "execution_count": 12,
   "metadata": {},
   "outputs": [],
   "source": [
    "Ms=[]\n",
    "energies=[]\n",
    "Cs=[]\n",
    "numberofsteps= 10000\n",
    "Ts= [0.5 + 0.01 * i for i in range(500)]\n",
    "#Ts=[0.5 + 0.5 * i for i in range(10)]\n",
    "for T in Ts: \n",
    "    Z=0.0\n",
    "    averageE=0.0\n",
    "    sqrE=0.0\n",
    "    for j in mapofenergy.keys(): \n",
    "        #print j\n",
    "        #print T\n",
    "        #print -j/T\n",
    "        #print exp(-j/T)\n",
    "        Z=Z+exp((1.0)*(-j/T))*mapofenergy[j]\n",
    "        #print exp(-j/T)*mapofenergy[j] \n",
    "        #print Z\n",
    "        averageE=averageE+(1.0)*exp((1.0)*(-j/T))*j*mapofenergy[j]\n",
    "        \n",
    "        sqrE=sqrE+(1.0)*exp((1.0)*(-j/T))*mapofenergy[j]*j*j\n",
    "    averageE=averageE/Z\n",
    "    sqrE=sqrE/Z\n",
    "    temp=float((sqrE-averageE*averageE)/N/T/T)\n",
    "    Cs.append(temp)\n",
    "    #print ((sqrE-averageE*averageE)/N/T/T)\n",
    "    energies.append(averageE)\n",
    "    \n",
    "    #print T\n",
    "    \n",
    "    \n",
    "    "
   ]
  },
  {
   "cell_type": "code",
   "execution_count": 13,
   "metadata": {},
   "outputs": [],
   "source": [
    "#pylab.plot(Ts, energies , '-')"
   ]
  },
  {
   "cell_type": "code",
   "execution_count": 14,
   "metadata": {},
   "outputs": [],
   "source": [
    "#pylab.plot(Ts, Cs , '-')"
   ]
  },
  {
   "cell_type": "code",
   "execution_count": 15,
   "metadata": {},
   "outputs": [
    {
     "name": "stdout",
     "output_type": "stream",
     "text": [
      "[-1, -1, 1, -1, -1, -1, 1, -1, -1, -1, 1, 1, -1, -1, -1, 1]\n"
     ]
    }
   ],
   "source": [
    "steps=10000\n",
    "Mhs=[] \n",
    "print Spin \n",
    "T1=Tc-0.2\n",
    "b=0.5\n",
    "for i  in range(steps):\n",
    "    position = random.randint(0,N-1)\n",
    "    rand = random.uniform(0.0,1.0)\n",
    "    h = sum(Spin[j] for j in links[position ])\n",
    "    Spin[position ] = -1\n",
    "    if rand< (1.0/(1.0+exp(-2.0*b*h))):\n",
    "        Spin[position ] = 1\n",
    "        \n",
    "        \n",
    "#print Spin \n",
    "        \n",
    "\n",
    "\n",
    "\n"
   ]
  },
  {
   "cell_type": "code",
   "execution_count": null,
   "metadata": {
    "collapsed": true
   },
   "outputs": [],
   "source": []
  },
  {
   "cell_type": "code",
   "execution_count": null,
   "metadata": {
    "collapsed": true
   },
   "outputs": [],
   "source": []
  },
  {
   "cell_type": "code",
   "execution_count": null,
   "metadata": {
    "collapsed": true
   },
   "outputs": [],
   "source": [
    "\n",
    "   \n",
    "    "
   ]
  },
  {
   "cell_type": "code",
   "execution_count": null,
   "metadata": {
    "collapsed": true
   },
   "outputs": [],
   "source": []
  },
  {
   "cell_type": "code",
   "execution_count": null,
   "metadata": {
    "collapsed": true
   },
   "outputs": [],
   "source": [
    "\n"
   ]
  },
  {
   "cell_type": "code",
   "execution_count": null,
   "metadata": {
    "collapsed": true
   },
   "outputs": [],
   "source": []
  },
  {
   "cell_type": "code",
   "execution_count": null,
   "metadata": {
    "collapsed": true
   },
   "outputs": [],
   "source": []
  },
  {
   "cell_type": "code",
   "execution_count": null,
   "metadata": {
    "collapsed": true
   },
   "outputs": [],
   "source": []
  }
 ],
 "metadata": {
  "kernelspec": {
   "display_name": "Python 2",
   "language": "python",
   "name": "python2"
  },
  "language_info": {
   "codemirror_mode": {
    "name": "ipython",
    "version": 2
   },
   "file_extension": ".py",
   "mimetype": "text/x-python",
   "name": "python",
   "nbconvert_exporter": "python",
   "pygments_lexer": "ipython2",
   "version": "2.7.13"
  }
 },
 "nbformat": 4,
 "nbformat_minor": 2
}
